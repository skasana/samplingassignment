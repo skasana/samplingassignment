{
  "nbformat": 4,
  "nbformat_minor": 0,
  "metadata": {
    "colab": {
      "provenance": [],
      "authorship_tag": "ABX9TyOPd3uLCRHmUda/sxqoLufh",
      "include_colab_link": true
    },
    "kernelspec": {
      "name": "python3",
      "display_name": "Python 3"
    },
    "language_info": {
      "name": "python"
    }
  },
  "cells": [
    {
      "cell_type": "markdown",
      "metadata": {
        "id": "view-in-github",
        "colab_type": "text"
      },
      "source": [
        "<a href=\"https://colab.research.google.com/github/skasana/samplingassignment/blob/main/samplingassignment.ipynb\" target=\"_parent\"><img src=\"https://colab.research.google.com/assets/colab-badge.svg\" alt=\"Open In Colab\"/></a>"
      ]
    },
    {
      "cell_type": "code",
      "source": [
        "import pandas as pd\n",
        "from imblearn.over_sampling import SMOTE\n",
        "from sklearn.model_selection import train_test_split\n",
        "\n",
        "file_path = '/content/Creditcard_data.csv'\n",
        "dataset = pd.read_csv(file_path)\n",
        "\n",
        "print(\"First few rows of the dataset:\")\n",
        "print(dataset.head())\n",
        "print(\"\\nClass distribution before balancing:\")\n",
        "print(dataset['Class'].value_counts())\n",
        "\n",
        "X = dataset.drop('Class', axis=1)\n",
        "y = dataset['Class']\n",
        "\n",
        "X_train, X_test, y_train, y_test = train_test_split(X, y, test_size=0.2, random_state=42, stratify=y)\n",
        "\n",
        "smote = SMOTE(random_state=42)\n",
        "X_train_balanced, y_train_balanced = smote.fit_resample(X_train, y_train)\n",
        "\n",
        "print(\"\\nClass distribution after balancing:\")\n",
        "print(pd.Series(y_train_balanced).value_counts())\n",
        "\n",
        "balanced_dataset = pd.concat([pd.DataFrame(X_train_balanced), pd.Series(y_train_balanced, name='Class')], axis=1)\n",
        "balanced_dataset.to_csv('balanced_dataset.csv', index=False)\n",
        "print(\"\\nBalanced dataset saved as 'balanced_dataset.csv'.\")"
      ],
      "metadata": {
        "colab": {
          "base_uri": "https://localhost:8080/"
        },
        "id": "pLVzEceHwPrA",
        "outputId": "8ec64e71-f56a-4abf-ade4-2f244ad54e13"
      },
      "execution_count": 4,
      "outputs": [
        {
          "output_type": "stream",
          "name": "stdout",
          "text": [
            "First few rows of the dataset:\n",
            "   Time        V1        V2        V3        V4        V5        V6        V7  \\\n",
            "0     0 -1.359807 -0.072781  2.536347  1.378155 -0.338321  0.462388  0.239599   \n",
            "1     0  1.191857  0.266151  0.166480  0.448154  0.060018 -0.082361 -0.078803   \n",
            "2     1 -1.358354 -1.340163  1.773209  0.379780 -0.503198  1.800499  0.791461   \n",
            "3     1 -0.966272 -0.185226  1.792993 -0.863291 -0.010309  1.247203  0.237609   \n",
            "4     2 -1.158233  0.877737  1.548718  0.403034 -0.407193  0.095921  0.592941   \n",
            "\n",
            "         V8        V9  ...       V21       V22       V23       V24       V25  \\\n",
            "0  0.098698  0.363787  ... -0.018307  0.277838 -0.110474  0.066928  0.128539   \n",
            "1  0.085102 -0.255425  ... -0.225775 -0.638672  0.101288 -0.339846  0.167170   \n",
            "2  0.247676 -1.514654  ...  0.247998  0.771679  0.909412 -0.689281 -0.327642   \n",
            "3  0.377436 -1.387024  ... -0.108300  0.005274 -0.190321 -1.175575  0.647376   \n",
            "4 -0.270533  0.817739  ... -0.009431  0.798278 -0.137458  0.141267 -0.206010   \n",
            "\n",
            "        V26       V27       V28  Amount  Class  \n",
            "0 -0.189115  0.133558 -0.021053  149.62      0  \n",
            "1  0.125895 -0.008983  0.014724    2.69      1  \n",
            "2 -0.139097 -0.055353 -0.059752  378.66      0  \n",
            "3 -0.221929  0.062723  0.061458  123.50      0  \n",
            "4  0.502292  0.219422  0.215153   69.99      0  \n",
            "\n",
            "[5 rows x 31 columns]\n",
            "\n",
            "Class distribution before balancing:\n",
            "Class\n",
            "0    763\n",
            "1      9\n",
            "Name: count, dtype: int64\n",
            "\n",
            "Class distribution after balancing:\n",
            "Class\n",
            "0    610\n",
            "1    610\n",
            "Name: count, dtype: int64\n",
            "\n",
            "Balanced dataset saved as 'balanced_dataset.csv'.\n"
          ]
        }
      ]
    },
    {
      "cell_type": "code",
      "source": [
        "from sklearn.model_selection import train_test_split\n",
        "from sklearn.linear_model import LogisticRegression\n",
        "from sklearn.tree import DecisionTreeClassifier\n",
        "from sklearn.ensemble import RandomForestClassifier\n",
        "from sklearn.svm import SVC\n",
        "from sklearn.neighbors import KNeighborsClassifier\n",
        "from sklearn.metrics import accuracy_score\n",
        "import numpy as np\n",
        "\n",
        "balanced_dataset = pd.read_csv('balanced_dataset.csv')\n",
        "X_balanced = balanced_dataset.drop('Class', axis=1)\n",
        "y_balanced = balanced_dataset['Class']\n",
        "\n",
        "# Step 3: Sampling Techniqus\n",
        "samples = {}\n",
        "\n",
        "# Sampling 1: Random Sampling\n",
        "samples['Sampling1'] = balanced_dataset.sample(frac=0.5, random_state=42)\n",
        "\n",
        "stratified_sample, _ = train_test_split(balanced_dataset, test_size=0.5, random_state=42, stratify=y_balanced)\n",
        "samples['Sampling2'] = stratified_sample\n",
        "\n",
        "systematic_indices = np.arange(0, len(balanced_dataset), step=2)\n",
        "samples['Sampling3'] = balanced_dataset.iloc[systematic_indices]\n",
        "\n",
        "cluster_indices = np.random.choice(np.arange(0, len(balanced_dataset)), size=int(0.5 * len(balanced_dataset)), replace=False)\n",
        "samples['Sampling4'] = balanced_dataset.iloc[cluster_indices]\n",
        "\n",
        "samples['Sampling5'] = balanced_dataset.sample(frac=1.5, replace=True, random_state=42)\n",
        "\n",
        "models = {\n",
        "    'M1': LogisticRegression(max_iter=1000, random_state=42),\n",
        "    'M2': DecisionTreeClassifier(random_state=42),\n",
        "    'M3': RandomForestClassifier(random_state=42),\n",
        "    'M4': SVC(random_state=42),\n",
        "    'M5': KNeighborsClassifier()\n",
        "}\n",
        "\n",
        "results = {}\n",
        "\n",
        "for sampling_name, sample_data in samples.items():\n",
        "    X_sample = sample_data.drop('Class', axis=1)\n",
        "    y_sample = sample_data['Class']\n",
        "\n",
        "    X_train, X_test, y_train, y_test = train_test_split(X_sample, y_sample, test_size=0.2, random_state=42, stratify=y_sample)\n",
        "\n",
        "    for model_name, model in models.items():\n",
        "        model.fit(X_train, y_train)\n",
        "        y_pred = model.predict(X_test)\n",
        "        accuracy = accuracy_score(y_test, y_pred)\n",
        "        results[(sampling_name, model_name)] = accuracy\n",
        "\n",
        "print(\"\\nModel Accuracies:\")\n",
        "for (sampling, model), accuracy in results.items():\n",
        "    print(f\"Sampling: {sampling}, Model: {model}, Accuracy: {accuracy:.2f}\")"
      ],
      "metadata": {
        "colab": {
          "base_uri": "https://localhost:8080/"
        },
        "id": "KoSAUkSDwnO8",
        "outputId": "db964a85-cf1e-4da4-eec9-0f664c5e43f0"
      },
      "execution_count": 5,
      "outputs": [
        {
          "output_type": "stream",
          "name": "stderr",
          "text": [
            "/usr/local/lib/python3.11/dist-packages/sklearn/linear_model/_logistic.py:465: ConvergenceWarning: lbfgs failed to converge (status=1):\n",
            "STOP: TOTAL NO. of ITERATIONS REACHED LIMIT.\n",
            "\n",
            "Increase the number of iterations (max_iter) or scale the data as shown in:\n",
            "    https://scikit-learn.org/stable/modules/preprocessing.html\n",
            "Please also refer to the documentation for alternative solver options:\n",
            "    https://scikit-learn.org/stable/modules/linear_model.html#logistic-regression\n",
            "  n_iter_i = _check_optimize_result(\n",
            "/usr/local/lib/python3.11/dist-packages/sklearn/linear_model/_logistic.py:465: ConvergenceWarning: lbfgs failed to converge (status=1):\n",
            "STOP: TOTAL NO. of ITERATIONS REACHED LIMIT.\n",
            "\n",
            "Increase the number of iterations (max_iter) or scale the data as shown in:\n",
            "    https://scikit-learn.org/stable/modules/preprocessing.html\n",
            "Please also refer to the documentation for alternative solver options:\n",
            "    https://scikit-learn.org/stable/modules/linear_model.html#logistic-regression\n",
            "  n_iter_i = _check_optimize_result(\n",
            "/usr/local/lib/python3.11/dist-packages/sklearn/linear_model/_logistic.py:465: ConvergenceWarning: lbfgs failed to converge (status=1):\n",
            "STOP: TOTAL NO. of ITERATIONS REACHED LIMIT.\n",
            "\n",
            "Increase the number of iterations (max_iter) or scale the data as shown in:\n",
            "    https://scikit-learn.org/stable/modules/preprocessing.html\n",
            "Please also refer to the documentation for alternative solver options:\n",
            "    https://scikit-learn.org/stable/modules/linear_model.html#logistic-regression\n",
            "  n_iter_i = _check_optimize_result(\n",
            "/usr/local/lib/python3.11/dist-packages/sklearn/linear_model/_logistic.py:465: ConvergenceWarning: lbfgs failed to converge (status=1):\n",
            "STOP: TOTAL NO. of ITERATIONS REACHED LIMIT.\n",
            "\n",
            "Increase the number of iterations (max_iter) or scale the data as shown in:\n",
            "    https://scikit-learn.org/stable/modules/preprocessing.html\n",
            "Please also refer to the documentation for alternative solver options:\n",
            "    https://scikit-learn.org/stable/modules/linear_model.html#logistic-regression\n",
            "  n_iter_i = _check_optimize_result(\n"
          ]
        },
        {
          "output_type": "stream",
          "name": "stdout",
          "text": [
            "\n",
            "Model Accuracies:\n",
            "Sampling: Sampling1, Model: M1, Accuracy: 0.93\n",
            "Sampling: Sampling1, Model: M2, Accuracy: 0.96\n",
            "Sampling: Sampling1, Model: M3, Accuracy: 0.98\n",
            "Sampling: Sampling1, Model: M4, Accuracy: 0.57\n",
            "Sampling: Sampling1, Model: M5, Accuracy: 0.80\n",
            "Sampling: Sampling2, Model: M1, Accuracy: 0.94\n",
            "Sampling: Sampling2, Model: M2, Accuracy: 0.97\n",
            "Sampling: Sampling2, Model: M3, Accuracy: 0.99\n",
            "Sampling: Sampling2, Model: M4, Accuracy: 0.57\n",
            "Sampling: Sampling2, Model: M5, Accuracy: 0.74\n",
            "Sampling: Sampling3, Model: M1, Accuracy: 0.96\n",
            "Sampling: Sampling3, Model: M2, Accuracy: 0.95\n",
            "Sampling: Sampling3, Model: M3, Accuracy: 1.00\n",
            "Sampling: Sampling3, Model: M4, Accuracy: 0.59\n",
            "Sampling: Sampling3, Model: M5, Accuracy: 0.80\n",
            "Sampling: Sampling4, Model: M1, Accuracy: 0.91\n",
            "Sampling: Sampling4, Model: M2, Accuracy: 0.93\n",
            "Sampling: Sampling4, Model: M3, Accuracy: 0.99\n",
            "Sampling: Sampling4, Model: M4, Accuracy: 0.52\n",
            "Sampling: Sampling4, Model: M5, Accuracy: 0.76\n",
            "Sampling: Sampling5, Model: M1, Accuracy: 0.96\n",
            "Sampling: Sampling5, Model: M2, Accuracy: 1.00\n",
            "Sampling: Sampling5, Model: M3, Accuracy: 1.00\n",
            "Sampling: Sampling5, Model: M4, Accuracy: 0.60\n",
            "Sampling: Sampling5, Model: M5, Accuracy: 0.90\n"
          ]
        }
      ]
    }
  ]
}